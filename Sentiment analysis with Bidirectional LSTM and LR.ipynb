{
 "cells": [
  {
   "cell_type": "markdown",
   "metadata": {},
   "source": [
    "## This is my jupyter notebook for sentiment analysis task ##\n",
    "\n",
    "Our sentiment can be either 1 (positive) or 0 (negative) <br>\n",
    "\n",
    "In this notebook, I am trying to do <br>\n",
    "\n",
    "1. Bidirectional-LSTM <br>\n",
    "2. Logistic Regression with TF-idf vectorizer<br>\n",
    "3. Logistic Regression with CountVectorizer<br>\n",
    "\n",
    "<h3> SUMMARY </h3>\n",
    "\n",
    "<p> In bidirectional LSTM, we do a text preprocessing by \"lower\" all the text and tokenize by using \"text_to_word_sequence\" provided bhy Keras. <br>\n",
    "    By default, this function automatically does 3 things:</p><br>\n",
    "\n",
    "        > Splits words by space (split=” “).\n",
    "        > Filters out punctuation (filters=’!”#$%&()*+,-./:;<=>?@[\\\\]^_`{|}~\\t\\n’).<br>\n",
    "        > Converts text to lowercase (lower=True).<br>\n",
    "    \n",
    "    Finally, vectorize a text by using tokenizer API by Keras \n",
    "    \n",
    "<p> For Logistic regression, it appears that TF-idf performs better than Countvectorizer. </p>\n",
    "    <p> CountVectorizer is used with two parameters — </p>\n",
    "\n",
    "    > min_df : defines the minimum frequency of a word for it to be counted as a feature (in my case, I set it to 2)\n",
    "    > ngram_range : The ngram_range parameter is a tuple. It defines the minimum and maximum length of sequence of tokens considered. In this case, this length is 2. So, this will find sequence of 2 tokens like — ‘but the’, ‘wise man’ etc. (in my case, I set it to (1,1))\n",
    "    \n",
    "    \n",
    "<h3> RESULTS </h3>\n",
    "\n",
    "| Model                   | Dev set | Validation set |\n",
    "|-------------------------|---------|----------------|\n",
    "| Bidirectional-LSTM      | 80.75   | 81.24          |\n",
    "| LR with TF-idf          | 80.46   | 80.81          |\n",
    "| LR with countvectorizer | 78.25   | 79             |\n",
    "\n",
    "ROC curve of both LR and report on Bi-LSTM are provided below."
   ]
  },
  {
   "cell_type": "markdown",
   "metadata": {},
   "source": [
    "## Bidirectional LSTM ##"
   ]
  },
  {
   "cell_type": "code",
   "execution_count": 149,
   "metadata": {},
   "outputs": [],
   "source": [
    "from keras.preprocessing.text import Tokenizer\n",
    "from keras.preprocessing.sequence import pad_sequences\n",
    "from keras.utils import to_categorical\n",
    "from keras.layers import Bidirectional\n",
    "import pandas as pd\n",
    "import numpy as np\n"
   ]
  },
  {
   "cell_type": "code",
   "execution_count": 150,
   "metadata": {},
   "outputs": [],
   "source": [
    "train = pd.read_csv('http://www.sansarn.com/its489/twitter_sentiment_train.csv', sep=',')"
   ]
  },
  {
   "cell_type": "code",
   "execution_count": 151,
   "metadata": {},
   "outputs": [],
   "source": [
    "train['Positivity'] = np.where(train['polarity'] == 4, 1, 0)\n"
   ]
  },
  {
   "cell_type": "code",
   "execution_count": 152,
   "metadata": {},
   "outputs": [
    {
     "data": {
      "text/plain": [
       "1    128071\n",
       "0    127929\n",
       "Name: Positivity, dtype: int64"
      ]
     },
     "execution_count": 152,
     "metadata": {},
     "output_type": "execute_result"
    }
   ],
   "source": [
    "train['Positivity'].value_counts()"
   ]
  },
  {
   "cell_type": "code",
   "execution_count": 153,
   "metadata": {},
   "outputs": [
    {
     "data": {
      "text/plain": [
       "326"
      ]
     },
     "execution_count": 153,
     "metadata": {},
     "output_type": "execute_result"
    }
   ],
   "source": [
    "train['text'].str.len().max()"
   ]
  },
  {
   "cell_type": "code",
   "execution_count": 154,
   "metadata": {},
   "outputs": [
    {
     "data": {
      "text/plain": [
       "74.0726328125"
      ]
     },
     "execution_count": 154,
     "metadata": {},
     "output_type": "execute_result"
    }
   ],
   "source": [
    "train['text'].str.len().mean()"
   ]
  },
  {
   "cell_type": "code",
   "execution_count": 155,
   "metadata": {},
   "outputs": [],
   "source": [
    "train['text'] = train['text'].apply(lambda x: x.lower())"
   ]
  },
  {
   "cell_type": "code",
   "execution_count": 156,
   "metadata": {},
   "outputs": [],
   "source": [
    "X = train.text\n",
    "y = train.Positivity"
   ]
  },
  {
   "cell_type": "code",
   "execution_count": 157,
   "metadata": {},
   "outputs": [],
   "source": [
    "tokenizer = Tokenizer(num_words = 10000)\n",
    "tokenizer.fit_on_texts(list(X))\n"
   ]
  },
  {
   "cell_type": "code",
   "execution_count": 158,
   "metadata": {},
   "outputs": [],
   "source": [
    "X = tokenizer.texts_to_sequences(X)\n",
    "X = pad_sequences(X, maxlen = 326)"
   ]
  },
  {
   "cell_type": "code",
   "execution_count": 159,
   "metadata": {},
   "outputs": [],
   "source": [
    "from sklearn.model_selection import train_test_split\n",
    "Y=[]\n",
    "for val in y:\n",
    "    if(val == 0):\n",
    "        Y.append([1,0])\n",
    "    else:\n",
    "        Y.append([0,1])\n",
    "Y = np.array(Y)\n",
    "    \n",
    "X_train, X_test, y_train, y_test = train_test_split(X,Y,test_size = 0.3, random_state = 42)"
   ]
  },
  {
   "cell_type": "code",
   "execution_count": 160,
   "metadata": {},
   "outputs": [],
   "source": [
    "from keras.layers import Dense, Embedding,LSTM\n",
    "from keras.models import Sequential"
   ]
  },
  {
   "cell_type": "markdown",
   "metadata": {},
   "source": [
    "We have 2 hidden layer. The more we have, the more our neural network will perceive a complicated sentence."
   ]
  },
  {
   "cell_type": "code",
   "execution_count": 161,
   "metadata": {},
   "outputs": [
    {
     "name": "stdout",
     "output_type": "stream",
     "text": [
      "_________________________________________________________________\n",
      "Layer (type)                 Output Shape              Param #   \n",
      "=================================================================\n",
      "embedding_9 (Embedding)      (None, None, 100)         1000000   \n",
      "_________________________________________________________________\n",
      "bidirectional_3 (Bidirection (None, None, 128)         84480     \n",
      "_________________________________________________________________\n",
      "bidirectional_4 (Bidirection (None, 64)                41216     \n",
      "_________________________________________________________________\n",
      "dense_8 (Dense)              (None, 2)                 130       \n",
      "=================================================================\n",
      "Total params: 1,125,826\n",
      "Trainable params: 1,125,826\n",
      "Non-trainable params: 0\n",
      "_________________________________________________________________\n"
     ]
    }
   ],
   "source": [
    "max_features = 10000\n",
    "model = Sequential()\n",
    "\n",
    "# Input / Embdedding\n",
    "model.add(Embedding(max_features,100,mask_zero=True))\n",
    "model.add(Bidirectional(LSTM(64,dropout=0.4, recurrent_dropout=0.4,return_sequences=True)))\n",
    "model.add(Bidirectional(LSTM(32,dropout=0.5, recurrent_dropout=0.5,return_sequences=False)))\n",
    "\n",
    "# Output layer\n",
    "model.add(Dense(2, activation='sigmoid'))\n",
    "\n",
    "model.summary()"
   ]
  },
  {
   "cell_type": "code",
   "execution_count": 162,
   "metadata": {},
   "outputs": [],
   "source": [
    "epochs = 2\n",
    "batch_size = 32"
   ]
  },
  {
   "cell_type": "code",
   "execution_count": 163,
   "metadata": {},
   "outputs": [
    {
     "name": "stdout",
     "output_type": "stream",
     "text": [
      "Train on 179200 samples, validate on 76800 samples\n",
      "Epoch 1/2\n",
      "179200/179200 [==============================] - 7491s 42ms/step - loss: 0.4676 - acc: 0.7780 - val_loss: 0.4306 - val_acc: 0.7977\n",
      "\n",
      "Epoch 00001: val_acc improved from -inf to 0.79773, saving model to BiLSTM_best_weights.01-0.7977.hdf5\n",
      "Epoch 2/2\n",
      "179200/179200 [==============================] - 7684s 43ms/step - loss: 0.4104 - acc: 0.8124 - val_loss: 0.4237 - val_acc: 0.8037\n",
      "\n",
      "Epoch 00002: val_acc improved from 0.79773 to 0.80371, saving model to BiLSTM_best_weights.02-0.8037.hdf5\n"
     ]
    },
    {
     "data": {
      "text/plain": [
       "<keras.callbacks.History at 0x290221d8d68>"
      ]
     },
     "execution_count": 163,
     "metadata": {},
     "output_type": "execute_result"
    }
   ],
   "source": [
    "model.compile(loss='categorical_crossentropy', optimizer='adam', metrics=['accuracy'])\n",
    "\n",
    "from keras.callbacks import ModelCheckpoint\n",
    "\n",
    "filepath=\"BiLSTM_best_weights.{epoch:02d}-{val_acc:.4f}.hdf5\"\n",
    "checkpoint = ModelCheckpoint(filepath, monitor='val_acc', verbose=1, save_best_only=True, mode='max')\n",
    "\n",
    "model.fit(X_train, y_train, validation_data=(X_test, y_test), epochs=epochs, batch_size=batch_size, verbose=1,callbacks = [checkpoint])"
   ]
  },
  {
   "cell_type": "markdown",
   "metadata": {},
   "source": [
    "## Handle Dev set ##"
   ]
  },
  {
   "cell_type": "code",
   "execution_count": 164,
   "metadata": {},
   "outputs": [],
   "source": [
    "dev = pd.read_csv('http://www.sansarn.com/its489/twitter_sentiment_dev.csv', sep=',')"
   ]
  },
  {
   "cell_type": "code",
   "execution_count": 165,
   "metadata": {},
   "outputs": [
    {
     "data": {
      "text/html": [
       "<div>\n",
       "<style scoped>\n",
       "    .dataframe tbody tr th:only-of-type {\n",
       "        vertical-align: middle;\n",
       "    }\n",
       "\n",
       "    .dataframe tbody tr th {\n",
       "        vertical-align: top;\n",
       "    }\n",
       "\n",
       "    .dataframe thead th {\n",
       "        text-align: right;\n",
       "    }\n",
       "</style>\n",
       "<table border=\"1\" class=\"dataframe\">\n",
       "  <thead>\n",
       "    <tr style=\"text-align: right;\">\n",
       "      <th></th>\n",
       "      <th>polarity</th>\n",
       "      <th>tweet ID</th>\n",
       "      <th>date</th>\n",
       "      <th>query</th>\n",
       "      <th>username</th>\n",
       "      <th>text</th>\n",
       "      <th>Positivity</th>\n",
       "    </tr>\n",
       "  </thead>\n",
       "  <tbody>\n",
       "    <tr>\n",
       "      <th>0</th>\n",
       "      <td>0</td>\n",
       "      <td>2059754550</td>\n",
       "      <td>Sat Jun 06 17:34:13 PDT 2009</td>\n",
       "      <td>NO_QUERY</td>\n",
       "      <td>patsycline27</td>\n",
       "      <td>@sc430girl no, not yet   lol</td>\n",
       "      <td>0</td>\n",
       "    </tr>\n",
       "    <tr>\n",
       "      <th>1</th>\n",
       "      <td>4</td>\n",
       "      <td>2010892965</td>\n",
       "      <td>Tue Jun 02 18:08:26 PDT 2009</td>\n",
       "      <td>NO_QUERY</td>\n",
       "      <td>crookrooker</td>\n",
       "      <td>break a leg and good luck to everyone at tomor...</td>\n",
       "      <td>1</td>\n",
       "    </tr>\n",
       "    <tr>\n",
       "      <th>2</th>\n",
       "      <td>4</td>\n",
       "      <td>1958136417</td>\n",
       "      <td>Fri May 29 02:47:07 PDT 2009</td>\n",
       "      <td>NO_QUERY</td>\n",
       "      <td>harrieverveer</td>\n",
       "      <td>@DerBart right now they have &amp;quot;Lancï¿½me M...</td>\n",
       "      <td>1</td>\n",
       "    </tr>\n",
       "    <tr>\n",
       "      <th>3</th>\n",
       "      <td>0</td>\n",
       "      <td>2250446267</td>\n",
       "      <td>Sat Jun 20 00:32:57 PDT 2009</td>\n",
       "      <td>NO_QUERY</td>\n",
       "      <td>Yidhen</td>\n",
       "      <td>THERE'S no flames anymore! How can there be no...</td>\n",
       "      <td>0</td>\n",
       "    </tr>\n",
       "    <tr>\n",
       "      <th>4</th>\n",
       "      <td>4</td>\n",
       "      <td>2176325770</td>\n",
       "      <td>Mon Jun 15 03:33:51 PDT 2009</td>\n",
       "      <td>NO_QUERY</td>\n",
       "      <td>VeryScott</td>\n",
       "      <td>There's nothing like driving to work with the ...</td>\n",
       "      <td>1</td>\n",
       "    </tr>\n",
       "  </tbody>\n",
       "</table>\n",
       "</div>"
      ],
      "text/plain": [
       "   polarity    tweet ID                          date     query  \\\n",
       "0         0  2059754550  Sat Jun 06 17:34:13 PDT 2009  NO_QUERY   \n",
       "1         4  2010892965  Tue Jun 02 18:08:26 PDT 2009  NO_QUERY   \n",
       "2         4  1958136417  Fri May 29 02:47:07 PDT 2009  NO_QUERY   \n",
       "3         0  2250446267  Sat Jun 20 00:32:57 PDT 2009  NO_QUERY   \n",
       "4         4  2176325770  Mon Jun 15 03:33:51 PDT 2009  NO_QUERY   \n",
       "\n",
       "        username                                               text  \\\n",
       "0   patsycline27                       @sc430girl no, not yet   lol   \n",
       "1    crookrooker  break a leg and good luck to everyone at tomor...   \n",
       "2  harrieverveer  @DerBart right now they have &quot;Lancï¿½me M...   \n",
       "3         Yidhen  THERE'S no flames anymore! How can there be no...   \n",
       "4      VeryScott  There's nothing like driving to work with the ...   \n",
       "\n",
       "   Positivity  \n",
       "0           0  \n",
       "1           1  \n",
       "2           1  \n",
       "3           0  \n",
       "4           1  "
      ]
     },
     "execution_count": 165,
     "metadata": {},
     "output_type": "execute_result"
    }
   ],
   "source": [
    "dev['Positivity'] = np.where(dev['polarity'] == 4, 1, 0)\n",
    "dev.head()"
   ]
  },
  {
   "cell_type": "code",
   "execution_count": 166,
   "metadata": {},
   "outputs": [],
   "source": [
    "dev['text'] = dev['text'].apply(lambda x: x.lower())"
   ]
  },
  {
   "cell_type": "code",
   "execution_count": 167,
   "metadata": {},
   "outputs": [],
   "source": [
    "dev_X = dev['text']"
   ]
  },
  {
   "cell_type": "code",
   "execution_count": 168,
   "metadata": {},
   "outputs": [],
   "source": [
    "dev_X = tokenizer.texts_to_sequences(dev_X)\n",
    "dev_X = pad_sequences(dev_X, maxlen = 326)"
   ]
  },
  {
   "cell_type": "code",
   "execution_count": 169,
   "metadata": {},
   "outputs": [
    {
     "name": "stdout",
     "output_type": "stream",
     "text": [
      "64000/64000 [==============================] - 570s 9ms/step\n"
     ]
    }
   ],
   "source": [
    "dev['Sentiment'] = model.predict_classes(dev_X, batch_size=batch_size, verbose=1)\n",
    "dev.to_csv('lstm.csv', index=False)"
   ]
  },
  {
   "cell_type": "code",
   "execution_count": 179,
   "metadata": {},
   "outputs": [
    {
     "name": "stdout",
     "output_type": "stream",
     "text": [
      "76800/76800 [==============================] - 659s 9ms/step\n"
     ]
    },
    {
     "data": {
      "text/plain": [
       "[0.4236927524457375, 0.8037109375]"
      ]
     },
     "execution_count": 179,
     "metadata": {},
     "output_type": "execute_result"
    }
   ],
   "source": [
    "from keras.models import load_model\n",
    "loaded_CNN_model = load_model('BiLSTM_best_weights.02-0.8037.hdf5')\n",
    "loaded_CNN_model.evaluate(x= X_test, y= y_test, verbose = 1)"
   ]
  },
  {
   "cell_type": "code",
   "execution_count": 196,
   "metadata": {},
   "outputs": [],
   "source": [
    "yhat_cnn = loaded_CNN_model.predict(X_test)\n",
    "\n",
    "#จะเอาไปแสดง roc_curve แต่ทำไม่ได้  คิดว่ามีปัญหาที่ Y ที่เป็น array สองมิติ"
   ]
  },
  {
   "cell_type": "markdown",
   "metadata": {},
   "source": [
    "## Confusion matrix of Bidirectional- LSTM"
   ]
  },
  {
   "cell_type": "code",
   "execution_count": 220,
   "metadata": {},
   "outputs": [
    {
     "data": {
      "text/plain": [
       "array([[26089,  5643],\n",
       "       [ 6653, 25615]], dtype=int64)"
      ]
     },
     "execution_count": 220,
     "metadata": {},
     "output_type": "execute_result"
    }
   ],
   "source": [
    "from sklearn.metrics import confusion_matrix\n",
    "\n",
    "cm = confusion_matrix(dev['Positivity'], dev['Sentiment'])\n",
    "cm"
   ]
  },
  {
   "cell_type": "markdown",
   "metadata": {},
   "source": [
    "## Classification report of Bidirectional- LSTM"
   ]
  },
  {
   "cell_type": "code",
   "execution_count": 222,
   "metadata": {},
   "outputs": [
    {
     "name": "stdout",
     "output_type": "stream",
     "text": [
      "             precision    recall  f1-score   support\n",
      "\n",
      "          0       0.80      0.82      0.81     31732\n",
      "          1       0.82      0.79      0.81     32268\n",
      "\n",
      "avg / total       0.81      0.81      0.81     64000\n",
      "\n"
     ]
    }
   ],
   "source": [
    "from sklearn.metrics import classification_report\n",
    "print(classification_report(dev['Positivity'], dev['Sentiment']))"
   ]
  },
  {
   "cell_type": "code",
   "execution_count": 170,
   "metadata": {},
   "outputs": [],
   "source": [
    "from sklearn.metrics import accuracy_score\n",
    "acc = accuracy_score(dev['Positivity'], dev['Sentiment'])"
   ]
  },
  {
   "cell_type": "markdown",
   "metadata": {},
   "source": [
    "## Accuracy of Birectional LSTM with the Dev set"
   ]
  },
  {
   "cell_type": "code",
   "execution_count": 181,
   "metadata": {},
   "outputs": [
    {
     "data": {
      "text/plain": [
       "80.7875"
      ]
     },
     "execution_count": 181,
     "metadata": {},
     "output_type": "execute_result"
    }
   ],
   "source": [
    "acc *100"
   ]
  },
  {
   "cell_type": "markdown",
   "metadata": {},
   "source": [
    "## Logistic Regression with TF-idf"
   ]
  },
  {
   "cell_type": "code",
   "execution_count": 172,
   "metadata": {},
   "outputs": [],
   "source": [
    "train2 = pd.read_csv('http://www.sansarn.com/its489/twitter_sentiment_train.csv', sep=',')\n",
    "\n",
    "train2['Positivity'] = np.where(train2['polarity'] == 4, 1, 0)\n",
    "\n",
    "X2 = train2.text\n",
    "y2 = train2.Positivity\n",
    "\n",
    "X_train2, X_test2, y_train2, y_test2 = train_test_split(X2, y2, test_size=0.2 ,random_state = 7)"
   ]
  },
  {
   "cell_type": "code",
   "execution_count": 173,
   "metadata": {},
   "outputs": [],
   "source": [
    "from sklearn import model_selection\n",
    "from sklearn.linear_model import LogisticRegression\n",
    "from sklearn.metrics import confusion_matrix, f1_score, accuracy_score, precision_score, recall_score, classification_report\n",
    "from sklearn.pipeline import Pipeline\n"
   ]
  },
  {
   "cell_type": "code",
   "execution_count": 174,
   "metadata": {},
   "outputs": [],
   "source": [
    "def accuracy_summary(name,pipeline, X_train, y_train, X_test, y_test):\n",
    "    sentiment_fit = pipeline.fit(X_train, y_train)\n",
    "    y_pred = sentiment_fit.predict(X_test)\n",
    "    \n",
    "    accuracy = accuracy_score(y_test, y_pred)\n",
    "    print(name,\" accuracy score: {0:.2f}%\".format(accuracy*100))\n",
    "    print(classification_report(y_test, y_pred, target_names=['negative','positive']))\n",
    "    \n",
    "    return accuracy"
   ]
  },
  {
   "cell_type": "code",
   "execution_count": 175,
   "metadata": {},
   "outputs": [
    {
     "name": "stdout",
     "output_type": "stream",
     "text": [
      "LR  accuracy score: 79.42%\n",
      "             precision    recall  f1-score   support\n",
      "\n",
      "   negative       0.79      0.79      0.79     25486\n",
      "   positive       0.79      0.80      0.80     25714\n",
      "\n",
      "avg / total       0.79      0.79      0.79     51200\n",
      "\n",
      "\n"
     ]
    }
   ],
   "source": [
    "from sklearn.feature_extraction.text import TfidfVectorizer\n",
    "\n",
    "models = []\n",
    "models.append(('LR', LogisticRegression()))\n",
    "\n",
    "# evaluate each model in turn\n",
    "results = []\n",
    "names = []\n",
    "for name, modelz in models:\n",
    "  tfidf = TfidfVectorizer()\n",
    "  checker_pipeline = Pipeline([\n",
    "            ('vectorizer', tfidf),\n",
    "            ('classifier', modelz)\n",
    "        ])\n",
    "   \n",
    "  accuracy2 = accuracy_summary(name,checker_pipeline, X_train2, y_train2, X_test2, y_test2)\n",
    "   \n",
    "  print()"
   ]
  },
  {
   "cell_type": "code",
   "execution_count": 186,
   "metadata": {},
   "outputs": [
    {
     "name": "stdout",
     "output_type": "stream",
     "text": [
      "number_features=90000  accuracy score: 80.75%\n",
      "             precision    recall  f1-score   support\n",
      "\n",
      "   negative       0.81      0.80      0.81     25486\n",
      "   positive       0.81      0.81      0.81     25714\n",
      "\n",
      "avg / total       0.81      0.81      0.81     51200\n",
      "\n",
      "number_features=150000  accuracy score: 80.81%\n",
      "             precision    recall  f1-score   support\n",
      "\n",
      "   negative       0.81      0.80      0.81     25486\n",
      "   positive       0.81      0.81      0.81     25714\n",
      "\n",
      "avg / total       0.81      0.81      0.81     51200\n",
      "\n",
      "number_features=170000  accuracy score: 80.78%\n",
      "             precision    recall  f1-score   support\n",
      "\n",
      "   negative       0.81      0.81      0.81     25486\n",
      "   positive       0.81      0.81      0.81     25714\n",
      "\n",
      "avg / total       0.81      0.81      0.81     51200\n",
      "\n",
      "number_features=201000  accuracy score: 80.77%\n",
      "             precision    recall  f1-score   support\n",
      "\n",
      "   negative       0.81      0.81      0.81     25486\n",
      "   positive       0.81      0.81      0.81     25714\n",
      "\n",
      "avg / total       0.81      0.81      0.81     51200\n",
      "\n",
      "Max accuracy: 0.80814453125\n",
      "Max #features: 150000\n"
     ]
    }
   ],
   "source": [
    "# n_features = [100,500,1000,5000,10000,20000,30000]\n",
    "n_features = [90000, 150000, 170000, 201000]\n",
    "n_max = 0\n",
    "accu_max = 0\n",
    "for n in n_features:\n",
    "  lr = LogisticRegression(C=1)\n",
    "  tfidf = TfidfVectorizer(max_features=n,ngram_range=(1, 3), max_df=0.5)\n",
    "  checker_pipeline = Pipeline([\n",
    "          ('vectorizer', tfidf),\n",
    "          ('classifier', lr)\n",
    "      ])\n",
    "\n",
    "  accuracy = accuracy_summary('number_features='+str(n),checker_pipeline, X_train2, y_train2, X_test2, y_test2)\n",
    "  if accu_max < accuracy:\n",
    "    accu_max = accuracy\n",
    "    n_max = n\n",
    "print(\"Max accuracy:\", accu_max)\n",
    "print(\"Max #features:\",n_max)"
   ]
  },
  {
   "cell_type": "markdown",
   "metadata": {},
   "source": [
    "## Handle dev set 2 for LR "
   ]
  },
  {
   "cell_type": "code",
   "execution_count": 187,
   "metadata": {},
   "outputs": [],
   "source": [
    "dev2 = pd.read_csv('http://www.sansarn.com/its489/twitter_sentiment_dev.csv', sep=',')"
   ]
  },
  {
   "cell_type": "code",
   "execution_count": 188,
   "metadata": {},
   "outputs": [],
   "source": [
    "dev2['Positivity'] = np.where(dev2['polarity'] == 4, 1, 0)"
   ]
  },
  {
   "cell_type": "markdown",
   "metadata": {},
   "source": [
    "## Accuracy of Logistic Regression with TFidf"
   ]
  },
  {
   "cell_type": "code",
   "execution_count": 189,
   "metadata": {},
   "outputs": [
    {
     "name": "stdout",
     "output_type": "stream",
     "text": [
      "number_features=150000  accuracy score: 80.46%\n",
      "             precision    recall  f1-score   support\n",
      "\n",
      "   negative       0.81      0.80      0.80     31732\n",
      "   positive       0.80      0.81      0.81     32268\n",
      "\n",
      "avg / total       0.80      0.80      0.80     64000\n",
      "\n"
     ]
    }
   ],
   "source": [
    "n = 150000\n",
    "lr = LogisticRegression(C=1)\n",
    "tfidf = TfidfVectorizer(max_features=n,ngram_range=(1, 3),max_df=0.5)\n",
    "checker_pipeline = Pipeline([\n",
    "        ('vectorizer', tfidf),\n",
    "        ('classifier', lr)\n",
    "    ])\n",
    "\n",
    "accuracy = accuracy_summary('number_features='+str(n),checker_pipeline, X_train2, y_train2, dev2.text, dev2.Positivity)"
   ]
  },
  {
   "cell_type": "code",
   "execution_count": 191,
   "metadata": {},
   "outputs": [
    {
     "data": {
      "text/plain": [
       "0.80814453125"
      ]
     },
     "execution_count": 191,
     "metadata": {},
     "output_type": "execute_result"
    }
   ],
   "source": [
    "tvec = TfidfVectorizer(max_features=150000,ngram_range=(1, 3))\n",
    "tvec.fit(X_train2)\n",
    "x_train2_tfidf = tvec.transform(X_train2)\n",
    "x_test2_tfidf = tvec.transform(X_test2)\n",
    "lr_with_tfidf = LogisticRegression(C=1)\n",
    "lr_with_tfidf.fit(x_train2_tfidf,y_train2)\n",
    "yhat_lr = lr_with_tfidf.predict_proba(x_test2_tfidf)\n",
    "lr_with_tfidf.score(x_test2_tfidf,y_test2)"
   ]
  },
  {
   "cell_type": "markdown",
   "metadata": {},
   "source": [
    "## Logistic Regression with countvectorizer"
   ]
  },
  {
   "cell_type": "code",
   "execution_count": 223,
   "metadata": {},
   "outputs": [],
   "source": [
    "train3 = pd.read_csv('http://www.sansarn.com/its489/twitter_sentiment_train.csv', sep=',')\n",
    "train3['Positivity'] = np.where(train3['polarity'] == 4, 1, 0)\n",
    "X3 = train3.text\n",
    "y3 = train3.Positivity\n",
    "\n",
    "from sklearn.model_selection import train_test_split\n",
    "X_train3, X_test3, y_train3, y_test3 = train_test_split(X3,y3,test_size = 0.2, random_state = 1)"
   ]
  },
  {
   "cell_type": "code",
   "execution_count": 224,
   "metadata": {},
   "outputs": [
    {
     "name": "stdout",
     "output_type": "stream",
     "text": [
      "Vocabulary size: 45743\n",
      "X_train:\n",
      "<204800x45743 sparse matrix of type '<class 'numpy.int64'>'\n",
      "\twith 2313195 stored elements in Compressed Sparse Row format>\n",
      "X_test: \n",
      "<51200x45743 sparse matrix of type '<class 'numpy.int64'>'\n",
      "\twith 567651 stored elements in Compressed Sparse Row format>\n",
      "Number of features: 45743\n"
     ]
    }
   ],
   "source": [
    "from sklearn.feature_extraction.text import CountVectorizer\n",
    "\n",
    "cvect = CountVectorizer(min_df=2, ngram_range=(1, 1))\n",
    "X_train3 = cvect.fit(X_train3).transform(X_train3)\n",
    "X_test3 = cvect.transform(X_test3)\n",
    "\n",
    "print(\"Vocabulary size: {}\".format(len(cvect.vocabulary_)))\n",
    "print(\"X_train:\\n{}\".format(repr(X_train3)))\n",
    "print(\"X_test: \\n{}\".format(repr(X_test3)))\n",
    "\n",
    "feature_names = cvect.get_feature_names()\n",
    "print(\"Number of features: {}\".format(len(feature_names)))"
   ]
  },
  {
   "cell_type": "markdown",
   "metadata": {},
   "source": [
    "Implement GridSearch to find the best parameter from the given params with 5-folds cross validation"
   ]
  },
  {
   "cell_type": "code",
   "execution_count": 226,
   "metadata": {},
   "outputs": [
    {
     "name": "stdout",
     "output_type": "stream",
     "text": [
      "Best cross-validation score: 0.79\n",
      "Best parameters:  {'C': 0.1}\n",
      "Best estimator:  LogisticRegression(C=0.1, class_weight=None, dual=False, fit_intercept=True,\n",
      "          intercept_scaling=1, max_iter=100, multi_class='ovr', n_jobs=1,\n",
      "          penalty='l2', random_state=None, solver='liblinear', tol=0.0001,\n",
      "          verbose=0, warm_start=False)\n"
     ]
    }
   ],
   "source": [
    "from sklearn.model_selection import GridSearchCV\n",
    "\n",
    "param_grid = {'C': [0.001, 0.01, 0.1, 1,2, 10]}\n",
    "grid = GridSearchCV(LogisticRegression(), param_grid, cv=5)\n",
    "grid.fit(X_train3, y_train3)\n",
    "\n",
    "print(\"Best cross-validation score: {:.2f}\".format(grid.best_score_))\n",
    "print(\"Best parameters: \", grid.best_params_)\n",
    "print(\"Best estimator: \", grid.best_estimator_)"
   ]
  },
  {
   "cell_type": "markdown",
   "metadata": {},
   "source": [
    "Make a prediction with the best parameter"
   ]
  },
  {
   "cell_type": "code",
   "execution_count": 237,
   "metadata": {},
   "outputs": [
    {
     "name": "stdout",
     "output_type": "stream",
     "text": [
      "Score: 0.79\n"
     ]
    }
   ],
   "source": [
    "lr2 = grid.best_estimator_\n",
    "lr2.fit(X_train3, y_train3)\n",
    "lr2.predict(X_test3)\n",
    "yhat_lr2 = lr2.predict_proba(X_test3)\n",
    "print(\"Score: {:.2f}\".format(lr2.score(X_test3, y_test3)))"
   ]
  },
  {
   "cell_type": "code",
   "execution_count": 231,
   "metadata": {},
   "outputs": [],
   "source": [
    "dev3 = pd.read_csv('http://www.sansarn.com/its489/twitter_sentiment_dev.csv', sep=',')\n",
    "dev3['Positivity'] = np.where(dev3['polarity'] == 4, 1, 0)\n",
    "\n",
    "dev_X3 = dev3['text']\n",
    "\n",
    "cvect2 = CountVectorizer(min_df=2, ngram_range=(1, 1))\n",
    "dev_train3 = cvect2.fit(dev_X3).transform(dev_X3)\n",
    "\n",
    "\n"
   ]
  },
  {
   "cell_type": "code",
   "execution_count": 236,
   "metadata": {},
   "outputs": [
    {
     "data": {
      "text/plain": [
       "<64000x19587 sparse matrix of type '<class 'numpy.int64'>'\n",
       "\twith 706999 stored elements in Compressed Sparse Row format>"
      ]
     },
     "execution_count": 236,
     "metadata": {},
     "output_type": "execute_result"
    }
   ],
   "source": [
    "# พยายามจะ run กับ dev แล้ว แต่มันติดปัญหาไรวะ"
   ]
  },
  {
   "cell_type": "markdown",
   "metadata": {},
   "source": [
    "## ROC curve comparison with 2 Logistic regression"
   ]
  },
  {
   "cell_type": "code",
   "execution_count": 239,
   "metadata": {},
   "outputs": [
    {
     "data": {
      "image/png": "[encoded data removed]",
      "text/plain": [
       "<Figure size 576x504 with 1 Axes>"
      ]
     },
     "metadata": {},
     "output_type": "display_data"
    }
   ],
   "source": [
    "from sklearn.metrics import roc_curve, auc\n",
    "import matplotlib.pyplot as plt\n",
    "%matplotlib inline\n",
    "\n",
    "fpr, tpr, threshold = roc_curve(y_test2, yhat_lr[:,1])\n",
    "roc_auc = auc(fpr, tpr)\n",
    "fpr_cnn, tpr_cnn, threshold = roc_curve(y_test3, yhat_lr2[:,1])\n",
    "roc_auc_nn = auc(fpr_cnn, tpr_cnn)\n",
    "plt.figure(figsize=(8,7))\n",
    "plt.plot(fpr, tpr, label='tfidf-logis (area = %0.3f)' % roc_auc, linewidth=2)\n",
    "plt.plot(fpr_cnn, tpr_cnn, label='countvect-logis (area = %0.3f)' % roc_auc_nn, linewidth=2)\n",
    "\n",
    "plt.plot([0, 1], [0, 1], 'k--', linewidth=2)\n",
    "plt.xlim([-0.05, 1.0])\n",
    "plt.ylim([-0.05, 1.05])\n",
    "plt.xlabel('False Positive Rate', fontsize=18)\n",
    "plt.ylabel('True Positive Rate', fontsize=18)\n",
    "plt.title('Receiver operating characteristic: is positive', fontsize=18)\n",
    "plt.legend(loc=\"lower right\")\n",
    "plt.show()"
   ]
  },
  {
   "cell_type": "code",
   "execution_count": null,
   "metadata": {},
   "outputs": [],
   "source": []
  }
 ],
 "metadata": {
  "kernelspec": {
   "display_name": "Python 3",
   "language": "python",
   "name": "python3"
  },
  "language_info": {
   "codemirror_mode": {
    "name": "ipython",
    "version": 3
   },
   "file_extension": ".py",
   "mimetype": "text/x-python",
   "name": "python",
   "nbconvert_exporter": "python",
   "pygments_lexer": "ipython3",
   "version": "3.6.5"
  }
 },
 "nbformat": 4,
 "nbformat_minor": 2
}
